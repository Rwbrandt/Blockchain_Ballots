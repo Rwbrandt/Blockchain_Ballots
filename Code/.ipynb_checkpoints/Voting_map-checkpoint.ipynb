{
 "cells": [
  {
   "cell_type": "code",
   "execution_count": 2,
   "id": "34470641-aa59-4901-8698-c842b506ff16",
   "metadata": {},
   "outputs": [],
   "source": [
    "# Create imports\n",
    "import pandas as pd\n",
    "import geopandas\n",
    "import folium\n",
    "import matplotlib.pyplot as plt\n",
    "import fiona"
   ]
  },
  {
   "cell_type": "code",
   "execution_count": 3,
   "id": "bafac53d-32dc-4a3a-9824-4c0b91ee9857",
   "metadata": {},
   "outputs": [
    {
     "data": {
      "text/html": [
       "<div>\n",
       "<style scoped>\n",
       "    .dataframe tbody tr th:only-of-type {\n",
       "        vertical-align: middle;\n",
       "    }\n",
       "\n",
       "    .dataframe tbody tr th {\n",
       "        vertical-align: top;\n",
       "    }\n",
       "\n",
       "    .dataframe thead th {\n",
       "        text-align: right;\n",
       "    }\n",
       "</style>\n",
       "<table border=\"1\" class=\"dataframe\">\n",
       "  <thead>\n",
       "    <tr style=\"text-align: right;\">\n",
       "      <th></th>\n",
       "      <th>Vote</th>\n",
       "      <th>Zip Code</th>\n",
       "      <th>Latitude</th>\n",
       "      <th>Longitude</th>\n",
       "    </tr>\n",
       "  </thead>\n",
       "  <tbody>\n",
       "    <tr>\n",
       "      <th>0</th>\n",
       "      <td>0</td>\n",
       "      <td>19114</td>\n",
       "      <td>40.0686</td>\n",
       "      <td>-75.0027</td>\n",
       "    </tr>\n",
       "    <tr>\n",
       "      <th>1</th>\n",
       "      <td>1</td>\n",
       "      <td>19145</td>\n",
       "      <td>39.9081</td>\n",
       "      <td>-75.1954</td>\n",
       "    </tr>\n",
       "    <tr>\n",
       "      <th>2</th>\n",
       "      <td>2</td>\n",
       "      <td>19142</td>\n",
       "      <td>39.9227</td>\n",
       "      <td>-75.2304</td>\n",
       "    </tr>\n",
       "    <tr>\n",
       "      <th>3</th>\n",
       "      <td>3</td>\n",
       "      <td>19140</td>\n",
       "      <td>40.0125</td>\n",
       "      <td>-75.1487</td>\n",
       "    </tr>\n",
       "    <tr>\n",
       "      <th>4</th>\n",
       "      <td>4</td>\n",
       "      <td>19147</td>\n",
       "      <td>39.9351</td>\n",
       "      <td>-75.1516</td>\n",
       "    </tr>\n",
       "    <tr>\n",
       "      <th>5</th>\n",
       "      <td>5</td>\n",
       "      <td>19124</td>\n",
       "      <td>40.0149</td>\n",
       "      <td>-75.0903</td>\n",
       "    </tr>\n",
       "    <tr>\n",
       "      <th>6</th>\n",
       "      <td>6</td>\n",
       "      <td>19136</td>\n",
       "      <td>40.0358</td>\n",
       "      <td>-75.0202</td>\n",
       "    </tr>\n",
       "    <tr>\n",
       "      <th>7</th>\n",
       "      <td>7</td>\n",
       "      <td>19115</td>\n",
       "      <td>40.0891</td>\n",
       "      <td>-75.0436</td>\n",
       "    </tr>\n",
       "    <tr>\n",
       "      <th>8</th>\n",
       "      <td>8</td>\n",
       "      <td>19153</td>\n",
       "      <td>39.8782</td>\n",
       "      <td>-75.2362</td>\n",
       "    </tr>\n",
       "    <tr>\n",
       "      <th>9</th>\n",
       "      <td>9</td>\n",
       "      <td>99801</td>\n",
       "      <td>58.3018</td>\n",
       "      <td>-134.4203</td>\n",
       "    </tr>\n",
       "  </tbody>\n",
       "</table>\n",
       "</div>"
      ],
      "text/plain": [
       "   Vote  Zip Code  Latitude  Longitude\n",
       "0     0     19114   40.0686   -75.0027\n",
       "1     1     19145   39.9081   -75.1954\n",
       "2     2     19142   39.9227   -75.2304\n",
       "3     3     19140   40.0125   -75.1487\n",
       "4     4     19147   39.9351   -75.1516\n",
       "5     5     19124   40.0149   -75.0903\n",
       "6     6     19136   40.0358   -75.0202\n",
       "7     7     19115   40.0891   -75.0436\n",
       "8     8     19153   39.8782   -75.2362\n",
       "9     9     99801   58.3018  -134.4203"
      ]
     },
     "execution_count": 3,
     "metadata": {},
     "output_type": "execute_result"
    }
   ],
   "source": [
    "# Pull in dataframe for reading zip code coordinates\n",
    "zc_df = pd.read_csv('Resources/zip-code-coordinates.csv')\n",
    "zc_df"
   ]
  },
  {
   "cell_type": "code",
   "execution_count": 4,
   "id": "c3f17190-f1e9-4a74-81a7-4db74d85f951",
   "metadata": {},
   "outputs": [
    {
     "name": "stdout",
     "output_type": "stream",
     "text": [
      "   Vote  Zip Code  Latitude  Longitude                    geometry\n",
      "0     0     19114   40.0686   -75.0027  POINT (-75.00270 40.06860)\n",
      "1     1     19145   39.9081   -75.1954  POINT (-75.19540 39.90810)\n",
      "2     2     19142   39.9227   -75.2304  POINT (-75.23040 39.92270)\n",
      "3     3     19140   40.0125   -75.1487  POINT (-75.14870 40.01250)\n",
      "4     4     19147   39.9351   -75.1516  POINT (-75.15160 39.93510)\n"
     ]
    }
   ],
   "source": [
    "# Transition dataframe to create geometic points using Geopandas\n",
    "geometry = geopandas.points_from_xy(zc_df.Longitude, zc_df.Latitude)\n",
    "geo_df = geopandas.GeoDataFrame(zc_df[['Vote', 'Zip Code', 'Latitude', 'Longitude']], geometry=geometry)\n",
    "gdf = geopandas.GeoDataFrame(geo_df, geometry=geopandas.points_from_xy(geo_df.Longitude, geo_df.Latitude))\n",
    "print(gdf.head())"
   ]
  },
  {
   "cell_type": "code",
   "execution_count": 5,
   "id": "b08f6719-6793-418c-b508-d6d9dd9adf14",
   "metadata": {},
   "outputs": [],
   "source": [
    "# Pull in world map\n",
    "world = geopandas.read_file(geopandas.datasets.get_path('naturalearth_lowres'))"
   ]
  },
  {
   "cell_type": "code",
   "execution_count": 8,
   "id": "03a3d2a1-17ff-4a55-b3ff-663f40e9163d",
   "metadata": {},
   "outputs": [
    {
     "data": {
      "image/png": "[encoded data removed]",
      "text/plain": [
       "<Figure size 432x288 with 1 Axes>"
      ]
     },
     "metadata": {
      "needs_background": "light"
     },
     "output_type": "display_data"
    }
   ],
   "source": [
    "# Restrict world map to North America.\n",
    "ax = world[world.continent == 'North America'].plot(\n",
    "    color='white', edgecolor='black')\n",
    "# Points plotted overtop the North American map.\n",
    "gdf.plot(ax=ax, color='red')\n",
    "plt.show()"
   ]
  },
  {
   "cell_type": "code",
   "execution_count": null,
   "id": "435700b2-8b08-46af-af61-55c81246fbfc",
   "metadata": {},
   "outputs": [],
   "source": []
  }
 ],
 "metadata": {
  "kernelspec": {
   "display_name": "geospatial",
   "language": "python",
   "name": "geospatial"
  },
  "language_info": {
   "codemirror_mode": {
    "name": "ipython",
    "version": 3
   },
   "file_extension": ".py",
   "mimetype": "text/x-python",
   "name": "python",
   "nbconvert_exporter": "python",
   "pygments_lexer": "ipython3",
   "version": "3.10.2"
  }
 },
 "nbformat": 4,
 "nbformat_minor": 5
}
